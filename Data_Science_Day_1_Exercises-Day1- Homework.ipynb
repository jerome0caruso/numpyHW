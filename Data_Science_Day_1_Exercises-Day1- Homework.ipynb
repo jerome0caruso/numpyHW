{
 "cells": [
  {
   "cell_type": "markdown",
   "metadata": {},
   "source": [
    "# Exercises"
   ]
  },
  {
   "cell_type": "code",
   "execution_count": 66,
   "metadata": {},
   "outputs": [],
   "source": [
    "import numpy as np"
   ]
  },
  {
   "cell_type": "markdown",
   "metadata": {},
   "source": [
    "### #1 - Calculate the BMI (body mass index) on the two lists below using NDArrays..."
   ]
  },
  {
   "cell_type": "code",
   "execution_count": 6,
   "metadata": {},
   "outputs": [
    {
     "name": "stdout",
     "output_type": "stream",
     "text": [
      "[16.86620458 17.87755102 18.82562984 19.71450617 20.54794521 21.32943755\n",
      " 22.06222222]\n"
     ]
    }
   ],
   "source": [
    "\n",
    "# formula = weight / (height**2) * 730\n",
    "height = np.array([69, 70, 71, 72, 73, 74, 75])\n",
    "weight = ([110, 120, 130, 140, 150, 160, 170])\n",
    "\n",
    "newHeight = height * height\n",
    "\n",
    "\n",
    "bmi = weight / (height**2) * 730\n",
    "print(bmi)\n",
    "\n",
    "# OUTPUT: [16.86620458 17.87755102 18.82562984 19.71450617 20.54794521 21.32943755\n",
    "# 22.06222222]\n",
    "\n",
    "\n"
   ]
  },
  {
   "cell_type": "markdown",
   "metadata": {},
   "source": [
    "### #2 - Create a function that will take in two parameters and will create a random matrix based off of those parameters. Extra: Have additional parameters taken in that allow the user to choose the shape and data type of the matrix."
   ]
  },
  {
   "cell_type": "code",
   "execution_count": 60,
   "metadata": {},
   "outputs": [
    {
     "name": "stdout",
     "output_type": "stream",
     "text": [
      "[[ 1.33280992 19.33681292 10.51240461  6.15495652]\n",
      " [18.99350199 15.41210756  3.67636761  2.1466058 ]\n",
      " [ 1.07454215  9.30392182 15.94150595 13.28314746]\n",
      " [10.79074068 18.55159832  4.36707799 13.30975036]]\n"
     ]
    }
   ],
   "source": [
    "\"\"\"\n",
    "Example Result for make_matrix(0,15,(3,3)):\n",
    "array([[14.21633515,  7.98846653,  9.64140715],\n",
    "       [ 6.30982234,  9.96414331,  8.43153688],\n",
    "       [14.73102068, 11.76072894, 14.23356121]])\n",
    "\"\"\"\n",
    "\n",
    "def make_matrix(low, high, data_type = np.int32, shape=(3,3)):\n",
    "    matrix = np.random.uniform(low, high, shape)\n",
    "    return matrix.astype(data_type)\n",
    "print(make_matrix(1, 20, np.float64, (4, 4)))"
   ]
  },
  {
   "cell_type": "markdown",
   "metadata": {},
   "source": [
    "### #3 - Open and load the data for the Chicago White Sox hitting data for this past season.Create a function that will compare the infield players output vs the outfield players output vs *hybrid. (Infield - {C, 1B, 2B, SS, 3B, MI}, Outfield - {LF, CF, RF, OF}, *Hybrid - {DH, UT}) for a specific stat. i.e. BA or HR or OPS\n",
    "\n",
    "*Hybrid is optional\n"
   ]
  },
  {
   "cell_type": "code",
   "execution_count": 65,
   "metadata": {},
   "outputs": [],
   "source": [
    "import csv\n",
    "import numpy as np\n",
    "\n",
    "#Test to make sure you have the correct data\n",
    "\n"
   ]
  },
  {
   "cell_type": "code",
   "execution_count": 145,
   "metadata": {},
   "outputs": [
    {
     "name": "stdout",
     "output_type": "stream",
     "text": [
      "White Sox\n"
     ]
    },
    {
     "data": {
      "text/plain": [
       "'Infield has the best Average with 0.262 vs 0.261 vs 0.261'"
      ]
     },
     "execution_count": 145,
     "metadata": {},
     "output_type": "execute_result"
    }
   ],
   "source": [
    "import csv\n",
    "import numpy as np\n",
    "\n",
    "FIELDS = ['Rk', 'Pos', 'Name', 'Age', 'G', 'PA', 'AB', 'R', 'H', '2B', '3B', 'HR', 'RBI', 'SB', 'CS', \n",
    "          'BB', 'SO', 'BA', 'OBP', 'SLG', 'OPS', 'OPS+', 'TB', 'GDP', 'HBP', 'SH', 'SF', 'IBB']\n",
    "\n",
    "DATATYPES = [('rk', 'i'), ('pos', '|S25'), ('name', '|S25'), ('age', 'i'), ('g', 'i'), ('pa', 'i'), ('ab', 'i'),\n",
    "                ('r', 'i'), ('h', 'i'), ('2b', 'i'), ('3b', 'i'), ('hr', 'i'), ('rbi', 'i'), ('sb', 'i'), ('cs', 'i'),\n",
    "                ('bb', 'i'), ('so', 'i'), ('ba', 'f'), ('obp', 'f'), ('slg', 'f'), ('ops', 'f'), ('opsp', 'i'),\n",
    "                ('tb', 'i'), ('gdp', 'i'), ('hbp', 'i'), ('sh', 'i'), ('sf', 'i'), ('ibb', 'i')]\n",
    "\n",
    "def load_data(filename, d = ','):\n",
    "    data = np.genfromtxt(filename, delimiter = d, filling_values='n/a',\n",
    "            names=True, dtype = DATATYPES, invalid_raise = False)\n",
    "    return data\n",
    "\n",
    "ws = load_data('ws.csv')\n",
    "\n",
    "def getData(str):\n",
    "    inFieldPos = 'C', '1B', '2B', 'SS', '3B', 'MI'  \n",
    "    outFieldPos = 'LF', 'CF', 'RF', 'OF'\n",
    "    hybridPos = 'DH', 'UT'\n",
    "    inField = []\n",
    "    outField = []\n",
    "    hybrid = []\n",
    "    \n",
    "#     Divide the players into their postion\n",
    "\n",
    "    for player in range(len(ws)):\n",
    "        position = ws[player][1].decode('utf-8')\n",
    "        if position in inFieldPos:\n",
    "            inField.append(ws[player])\n",
    "\n",
    "    for player in range(len(ws)):\n",
    "        position = ws[player][1].decode('utf-8')\n",
    "        if position in outFieldPos:\n",
    "            outField.append(ws[player])\n",
    "            \n",
    "    for player in range(len(ws)):\n",
    "        position = ws[player][1].decode('utf-8')\n",
    "        if position in hybridPos:\n",
    "            hybrid.append(ws[player])\n",
    "#     --------\n",
    "    in_total = 0 \n",
    "    out_total = 0\n",
    "    hy_total = 0\n",
    "    \n",
    "#     Get each Sections average\n",
    "\n",
    "    for player in range(len(inField)):\n",
    "        in_total += ws[player][str]\n",
    "    in_ave = (in_total / len(inField))\n",
    "    \n",
    "    for player in range(len(outField)):\n",
    "        out_total += ws[player][str]\n",
    "    out_ave = (out_total / len(outField))\n",
    "    \n",
    "    for player in range(len(hybrid)):\n",
    "        hy_total += ws[player][str]\n",
    "    hy_ave = (hy_total / len(hybrid))\n",
    "    \n",
    "#     Decide who has the best Average\n",
    "    \n",
    "    if in_ave > out_ave and in_ave > hy_ave:\n",
    "        return f'Infield has the best Average with {round(in_ave, 3)} vs {round(out_ave, 3)} vs {round(hy_ave, 3)}'\n",
    "    elif out_ave > in_ave and out_ave > hy_ave:\n",
    "        return f'Outfield has the best Average with {round(out_ave, 3)} vs {round(in_ave, 3)} vs {round(hy_ave, 3)}'\n",
    "    elif hy_ave > in_ave and hy_ave > out_ave:\n",
    "        return f'Hybrid hitters have the best Average {round(hy_ave, 3)} vs {round(out_ave, 3)} vs {round(in_ave, 3)}'\n",
    "    elif in_ave == out_ave:\n",
    "        return f'Infield and Outfield hitters have the same best Average {round(in_ave, 3)} vs {round(out_ave, 3)}'\n",
    "    elif out_ave == hy_ave:\n",
    "        return f'Hybrid and Outfield hitters have the same best Average {round(hy_ave, 3)} vs {round(out_ave, 3)}'\n",
    "    elif in_ave == hy_ave:\n",
    "        return f'Hybrid and Infield hitters have the same best Average {round(hy_ave, 3)} vs {round(in_ave, 3)}'\n",
    "\n",
    "print(\"White Sox\")\n",
    "# getData('H')\n",
    "# getData('OPS')\n",
    "# getData('HR')\n",
    "# getData('RBI')S\n",
    "getData('BA')"
   ]
  },
  {
   "cell_type": "code",
   "execution_count": null,
   "metadata": {},
   "outputs": [],
   "source": []
  }
 ],
 "metadata": {
  "kernelspec": {
   "display_name": "Python 3",
   "language": "python",
   "name": "python3"
  },
  "language_info": {
   "codemirror_mode": {
    "name": "ipython",
    "version": 3
   },
   "file_extension": ".py",
   "mimetype": "text/x-python",
   "name": "python",
   "nbconvert_exporter": "python",
   "pygments_lexer": "ipython3",
   "version": "3.8.8"
  }
 },
 "nbformat": 4,
 "nbformat_minor": 2
}
